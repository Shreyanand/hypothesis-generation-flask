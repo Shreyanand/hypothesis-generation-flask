{
 "cells": [
  {
   "cell_type": "code",
   "execution_count": 2,
   "metadata": {},
   "outputs": [
    {
     "name": "stderr",
     "output_type": "stream",
     "text": [
      "/Users/shrey/anaconda3/lib/python3.6/site-packages/h5py/__init__.py:36: FutureWarning: Conversion of the second argument of issubdtype from `float` to `np.floating` is deprecated. In future, it will be treated as `np.float64 == np.dtype(float).type`.\n",
      "  from ._conv import register_converters as _register_converters\n",
      "Using TensorFlow backend.\n"
     ]
    }
   ],
   "source": [
    "from textgenrnn import textgenrnn"
   ]
  },
  {
   "cell_type": "code",
   "execution_count": 13,
   "metadata": {},
   "outputs": [
    {
     "name": "stdout",
     "output_type": "stream",
     "text": [
      "malware pletting mullious putts after inet. the site-se\" manication prothing to secratcoorased. Th\n",
      "\n"
     ]
    }
   ],
   "source": [
    "textgen = textgenrnn()\n",
    "textgen.generate(prefix=\"malware\", temperature=0.7, max_gen_length=100)"
   ]
  },
  {
   "cell_type": "code",
   "execution_count": null,
   "metadata": {},
   "outputs": [
    {
     "name": "stdout",
     "output_type": "stream",
     "text": [
      "10,023 texts collected.\n",
      "Training on 828,673 character sequences.\n",
      "Epoch 1/5\n",
      "6474/6474 [==============================] - 5249s 811ms/step - loss: 1.4874\n",
      "####################\n",
      "Temperature: 0.2\n",
      "####################\n",
      "\n",
      "\n",
      "\n",
      "\n",
      "\n",
      "\n",
      "####################\n",
      "Temperature: 0.5\n",
      "####################\n",
      "\n",
      "\n",
      "the traffic transmit that is a command but not capture and set of the program in the network server set or one time and not carry and communication protocol to segment the request are to be able to discuscourt instead of sent on the protocol but I contains a segment of the protocol to make command\n",
      "\n",
      "This sent but include the packet to monitor on under the server. The network network machine in the command look with an example: support the server, and connection. If you want to an connection set of the command has packing in the program and control and to example to the signature to network co\n",
      "\n",
      "####################\n",
      "Temperature: 1.0\n",
      "####################\n",
      "joins, user to under connection Implete\n",
      "\n",
      "control set (vectrocated), BC\n",
      "\n",
      "edits that would not several machine via passeperatesboot, routers of that\n",
      "\n",
      "Epoch 2/5\n",
      " 827/6474 [==>...........................] - ETA: 26:04 - loss: 1.3409"
     ]
    }
   ],
   "source": [
    "textgen.train_from_file('/Users/shrey/AnacondaProjects/Application_reviews/Code/caltagirone.txt', num_epochs=5, word_level=True)\n",
    "textgen.save('caltagirone.hdf5')"
   ]
  },
  {
   "cell_type": "code",
   "execution_count": 117,
   "metadata": {},
   "outputs": [
    {
     "name": "stdout",
     "output_type": "stream",
     "text": [
      "Russian Hackers Pokora account and that it is to data.”[17] There may hall indictming their proteminals or the missages also healthcare underancemented May 19 movested his likelie to a web filter in enlided their web shows being gained to as  in when they were adveneed the top time to deal stalming to the WikiLeaks.After the scale were received for yet that other seconds from the malicious society that as one that commit downloads such as Rvanyan was one via an document.The Idelor evot works f\n",
      "\n"
     ]
    }
   ],
   "source": [
    "textgen.generate(prefix=\"Russian Hackers\", temperature=1, max_gen_length=500  )"
   ]
  },
  {
   "cell_type": "code",
   "execution_count": 4,
   "metadata": {},
   "outputs": [],
   "source": [
    "textgen_tr = textgenrnn(weights_path='colab_experiments/colaboratory_weights.hdf5',\n",
    "                       vocab_path='colab_experiments/colaboratory_vocab.json',\n",
    "                       config_path='colab_experiments/colaboratory_config.json')\n",
    "\n",
    "#Temperature = 1 means more creative and original, more mistakes\n",
    "#Temperature = 0 means more conservative but confident\n",
    "#Softmax(z/T); Larger T (infintiy) means all words have same probability. Lower T (0+) means highest prob. word\n",
    "#Softmax gives prob cuz expo/ sum expos"
   ]
  },
  {
   "cell_type": "code",
   "execution_count": 16,
   "metadata": {},
   "outputs": [
    {
     "name": "stdout",
     "output_type": "stream",
     "text": [
      "and the ability to escalate privileges to allow this report . if the targeted actor ’ s proxy can be started to the network and control ( c2 ) . the malware may be used to enable network traffic across a random time . there are many filters . there\n",
      "\n"
     ]
    }
   ],
   "source": [
    "prefix = \"Adversary checks network administrator's email contact list for any contacts\"\n",
    "textgen_tr.generate(prefix=prefix, temperature=[0.2, 0.5, 0.7], max_gen_length=50)"
   ]
  },
  {
   "cell_type": "code",
   "execution_count": 19,
   "metadata": {},
   "outputs": [
    {
     "name": "stdout",
     "output_type": "stream",
     "text": [
      "the victim ’ s system . if the connection was not a new session , it was the same effect . if you click the right mouse button on your local machine , you should be able to find out which session . really only using the same time you\n",
      "\n"
     ]
    }
   ],
   "source": [
    "prefix = \"Adversary checks network administrator's email contact list for any contacts\"\n",
    "textgen_tr.generate(prefix=prefix, temperature=[0.2, 0.5, 0.7], max_gen_length=50)"
   ]
  },
  {
   "cell_type": "code",
   "execution_count": 20,
   "metadata": {},
   "outputs": [
    {
     "name": "stdout",
     "output_type": "stream",
     "text": [
      "part of the malware beaconing , the malware is likely to grant certain . if the compromise becomes public - facing web applications in the malware . the malware continues by spawning two ways to identify the latest used such as telnet , and the attacker can be authorized users\n",
      "\n"
     ]
    }
   ],
   "source": [
    "textgen_tr.generate(prefix=prefix, temperature=[0.2], max_gen_length=50)"
   ]
  },
  {
   "cell_type": "code",
   "execution_count": 18,
   "metadata": {},
   "outputs": [
    {
     "name": "stdout",
     "output_type": "stream",
     "text": [
      ") and the federal bureau of investigation ( fbi ) through incorporated security and expose and mitigate malicious activity , including the malware can render the hard - operational option . since these are used by threat actors used by the credentials to the proxy to be simultaneously withdrawn from\n",
      "\n"
     ]
    }
   ],
   "source": [
    "prefix = \"Adversary conducts a web search for victim company Gadgets Inc. receiving as part of the results their domain gadgets.com\"\n",
    "textgen_tr.generate(prefix=prefix, temperature=[0.2, 0.5, 0.7], max_gen_length=50)"
   ]
  },
  {
   "cell_type": "code",
   "execution_count": null,
   "metadata": {},
   "outputs": [],
   "source": []
  }
 ],
 "metadata": {
  "kernelspec": {
   "display_name": "Python 3",
   "language": "python",
   "name": "python3"
  },
  "language_info": {
   "codemirror_mode": {
    "name": "ipython",
    "version": 3
   },
   "file_extension": ".py",
   "mimetype": "text/x-python",
   "name": "python",
   "nbconvert_exporter": "python",
   "pygments_lexer": "ipython3",
   "version": "3.6.5"
  }
 },
 "nbformat": 4,
 "nbformat_minor": 2
}
