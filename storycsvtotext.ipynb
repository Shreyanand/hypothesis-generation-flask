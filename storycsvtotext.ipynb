{
 "cells": [
  {
   "cell_type": "code",
   "execution_count": 14,
   "metadata": {},
   "outputs": [],
   "source": [
    "import pandas as pd"
   ]
  },
  {
   "cell_type": "code",
   "execution_count": 15,
   "metadata": {},
   "outputs": [],
   "source": [
    "df = pd.read_csv(\"/Users/shrey/Downloads/ROCStories_winter2017 - ROCStories_winter2017 (1).csv\")"
   ]
  },
  {
   "cell_type": "code",
   "execution_count": 16,
   "metadata": {},
   "outputs": [
    {
     "data": {
      "text/html": [
       "<div>\n",
       "<style scoped>\n",
       "    .dataframe tbody tr th:only-of-type {\n",
       "        vertical-align: middle;\n",
       "    }\n",
       "\n",
       "    .dataframe tbody tr th {\n",
       "        vertical-align: top;\n",
       "    }\n",
       "\n",
       "    .dataframe thead th {\n",
       "        text-align: right;\n",
       "    }\n",
       "</style>\n",
       "<table border=\"1\" class=\"dataframe\">\n",
       "  <thead>\n",
       "    <tr style=\"text-align: right;\">\n",
       "      <th></th>\n",
       "      <th>storyid</th>\n",
       "      <th>storytitle</th>\n",
       "      <th>sentence1</th>\n",
       "      <th>sentence2</th>\n",
       "      <th>sentence3</th>\n",
       "      <th>sentence4</th>\n",
       "      <th>sentence5</th>\n",
       "    </tr>\n",
       "  </thead>\n",
       "  <tbody>\n",
       "    <tr>\n",
       "      <th>0</th>\n",
       "      <td>8bbe6d11-1e2e-413c-bf81-eaea05f4f1bd</td>\n",
       "      <td>David Drops the Weight</td>\n",
       "      <td>David noticed he had put on a lot of weight re...</td>\n",
       "      <td>He examined his habits to try and figure out t...</td>\n",
       "      <td>He realized he'd been eating too much fast foo...</td>\n",
       "      <td>He stopped going to burger places and started ...</td>\n",
       "      <td>After a few weeks, he started to feel much bet...</td>\n",
       "    </tr>\n",
       "    <tr>\n",
       "      <th>1</th>\n",
       "      <td>0beabab2-fb49-460e-a6e6-f35a202e3348</td>\n",
       "      <td>Frustration</td>\n",
       "      <td>Tom had a very short temper.</td>\n",
       "      <td>One day a guest made him very angry.</td>\n",
       "      <td>He punched a hole in the wall of his house.</td>\n",
       "      <td>Tom's guest became afraid and left quickly.</td>\n",
       "      <td>Tom sat on his couch filled with regret about ...</td>\n",
       "    </tr>\n",
       "    <tr>\n",
       "      <th>2</th>\n",
       "      <td>87da1a22-df0b-410c-b186-439700b70ba6</td>\n",
       "      <td>Marcus Buys Khakis</td>\n",
       "      <td>Marcus needed clothing for a business casual e...</td>\n",
       "      <td>All of his clothes were either too formal or t...</td>\n",
       "      <td>He decided to buy a pair of khakis.</td>\n",
       "      <td>The pair he bought fit him perfectly.</td>\n",
       "      <td>Marcus was happy to have the right clothes for...</td>\n",
       "    </tr>\n",
       "    <tr>\n",
       "      <th>3</th>\n",
       "      <td>2d16bcd6-692a-4fc0-8e7c-4a6f81d9efa9</td>\n",
       "      <td>Different Opinions</td>\n",
       "      <td>Bobby thought Bill should buy a trailer and ha...</td>\n",
       "      <td>Bill thought a truck would be better for what ...</td>\n",
       "      <td>Bobby pointed out two vehicles were much more ...</td>\n",
       "      <td>Bill was set in his ways with conventional thi...</td>\n",
       "      <td>He ended up buying the truck he wanted despite...</td>\n",
       "    </tr>\n",
       "    <tr>\n",
       "      <th>4</th>\n",
       "      <td>c71bb23b-7731-4233-8298-76ba6886cee1</td>\n",
       "      <td>Overcoming shortcomings</td>\n",
       "      <td>John was a pastor with a very bad memory.</td>\n",
       "      <td>He tried to memorize his sermons many days in ...</td>\n",
       "      <td>He decided to learn to sing to overcome his ha...</td>\n",
       "      <td>He then made all his sermons into music and sa...</td>\n",
       "      <td>His congregation was delighted and so was he.</td>\n",
       "    </tr>\n",
       "  </tbody>\n",
       "</table>\n",
       "</div>"
      ],
      "text/plain": [
       "                                storyid               storytitle  \\\n",
       "0  8bbe6d11-1e2e-413c-bf81-eaea05f4f1bd   David Drops the Weight   \n",
       "1  0beabab2-fb49-460e-a6e6-f35a202e3348              Frustration   \n",
       "2  87da1a22-df0b-410c-b186-439700b70ba6       Marcus Buys Khakis   \n",
       "3  2d16bcd6-692a-4fc0-8e7c-4a6f81d9efa9       Different Opinions   \n",
       "4  c71bb23b-7731-4233-8298-76ba6886cee1  Overcoming shortcomings   \n",
       "\n",
       "                                           sentence1  \\\n",
       "0  David noticed he had put on a lot of weight re...   \n",
       "1                       Tom had a very short temper.   \n",
       "2  Marcus needed clothing for a business casual e...   \n",
       "3  Bobby thought Bill should buy a trailer and ha...   \n",
       "4          John was a pastor with a very bad memory.   \n",
       "\n",
       "                                           sentence2  \\\n",
       "0  He examined his habits to try and figure out t...   \n",
       "1               One day a guest made him very angry.   \n",
       "2  All of his clothes were either too formal or t...   \n",
       "3  Bill thought a truck would be better for what ...   \n",
       "4  He tried to memorize his sermons many days in ...   \n",
       "\n",
       "                                           sentence3  \\\n",
       "0  He realized he'd been eating too much fast foo...   \n",
       "1        He punched a hole in the wall of his house.   \n",
       "2                He decided to buy a pair of khakis.   \n",
       "3  Bobby pointed out two vehicles were much more ...   \n",
       "4  He decided to learn to sing to overcome his ha...   \n",
       "\n",
       "                                           sentence4  \\\n",
       "0  He stopped going to burger places and started ...   \n",
       "1        Tom's guest became afraid and left quickly.   \n",
       "2              The pair he bought fit him perfectly.   \n",
       "3  Bill was set in his ways with conventional thi...   \n",
       "4  He then made all his sermons into music and sa...   \n",
       "\n",
       "                                           sentence5  \n",
       "0  After a few weeks, he started to feel much bet...  \n",
       "1  Tom sat on his couch filled with regret about ...  \n",
       "2  Marcus was happy to have the right clothes for...  \n",
       "3  He ended up buying the truck he wanted despite...  \n",
       "4      His congregation was delighted and so was he.  "
      ]
     },
     "execution_count": 16,
     "metadata": {},
     "output_type": "execute_result"
    }
   ],
   "source": [
    "df.head()"
   ]
  },
  {
   "cell_type": "code",
   "execution_count": 18,
   "metadata": {},
   "outputs": [],
   "source": [
    "with open(\"stories.txt\", 'w') as f:\n",
    "    for index, row in df.iterrows():\n",
    "        f.write(row['sentence1'] + \" \" + row['sentence2'] + \" \" + row['sentence3'] + \" \" + row['sentence4'] + \" \" + row['sentence5'] + \" \" + '\\n')"
   ]
  },
  {
   "cell_type": "code",
   "execution_count": 40,
   "metadata": {},
   "outputs": [],
   "source": [
    "with open(\"stories_train.txt\", 'w') as f:\n",
    "    for index, row in df[:50000].iterrows():\n",
    "        f.write(row['sentence1'] + \" \" + row['sentence2'] + \" \" + row['sentence3'] + \" \" + row['sentence4'] + \" \" + '\\n')"
   ]
  },
  {
   "cell_type": "code",
   "execution_count": 41,
   "metadata": {},
   "outputs": [],
   "source": [
    "with open(\"stories_test.txt\", 'w') as f:\n",
    "    for index, row in df[50000:52665].iterrows():\n",
    "        f.write(row['sentence1'] + \" \" + row['sentence2'] + \" \" + row['sentence3'] + \" \" + row['sentence4'] + \" \" + '\\n')"
   ]
  },
  {
   "cell_type": "code",
   "execution_count": 32,
   "metadata": {},
   "outputs": [
    {
     "data": {
      "text/html": [
       "<div>\n",
       "<style scoped>\n",
       "    .dataframe tbody tr th:only-of-type {\n",
       "        vertical-align: middle;\n",
       "    }\n",
       "\n",
       "    .dataframe tbody tr th {\n",
       "        vertical-align: top;\n",
       "    }\n",
       "\n",
       "    .dataframe thead th {\n",
       "        text-align: right;\n",
       "    }\n",
       "</style>\n",
       "<table border=\"1\" class=\"dataframe\">\n",
       "  <thead>\n",
       "    <tr style=\"text-align: right;\">\n",
       "      <th></th>\n",
       "      <th>storyid</th>\n",
       "      <th>storytitle</th>\n",
       "      <th>sentence1</th>\n",
       "      <th>sentence2</th>\n",
       "      <th>sentence3</th>\n",
       "      <th>sentence4</th>\n",
       "      <th>sentence5</th>\n",
       "    </tr>\n",
       "  </thead>\n",
       "  <tbody>\n",
       "    <tr>\n",
       "      <th>count</th>\n",
       "      <td>10533</td>\n",
       "      <td>10533</td>\n",
       "      <td>10533</td>\n",
       "      <td>10533</td>\n",
       "      <td>10533</td>\n",
       "      <td>10533</td>\n",
       "      <td>10533</td>\n",
       "    </tr>\n",
       "    <tr>\n",
       "      <th>unique</th>\n",
       "      <td>10533</td>\n",
       "      <td>9202</td>\n",
       "      <td>10474</td>\n",
       "      <td>10499</td>\n",
       "      <td>10521</td>\n",
       "      <td>10516</td>\n",
       "      <td>10505</td>\n",
       "    </tr>\n",
       "    <tr>\n",
       "      <th>top</th>\n",
       "      <td>c6731016-dda3-4234-b3f4-5fecdf46ec8f</td>\n",
       "      <td>Ice Cream</td>\n",
       "      <td>Tom was out with friends.</td>\n",
       "      <td>He was running late.</td>\n",
       "      <td>She didn't know what it was.</td>\n",
       "      <td>He searched for hours and couldn't find it.</td>\n",
       "      <td>She had a great time.</td>\n",
       "    </tr>\n",
       "    <tr>\n",
       "      <th>freq</th>\n",
       "      <td>1</td>\n",
       "      <td>11</td>\n",
       "      <td>4</td>\n",
       "      <td>4</td>\n",
       "      <td>2</td>\n",
       "      <td>3</td>\n",
       "      <td>14</td>\n",
       "    </tr>\n",
       "  </tbody>\n",
       "</table>\n",
       "</div>"
      ],
      "text/plain": [
       "                                     storyid storytitle  \\\n",
       "count                                  10533      10533   \n",
       "unique                                 10533       9202   \n",
       "top     c6731016-dda3-4234-b3f4-5fecdf46ec8f  Ice Cream   \n",
       "freq                                       1         11   \n",
       "\n",
       "                        sentence1             sentence2  \\\n",
       "count                       10533                 10533   \n",
       "unique                      10474                 10499   \n",
       "top     Tom was out with friends.  He was running late.   \n",
       "freq                            4                     4   \n",
       "\n",
       "                           sentence3  \\\n",
       "count                          10533   \n",
       "unique                         10521   \n",
       "top     She didn't know what it was.   \n",
       "freq                               2   \n",
       "\n",
       "                                          sentence4              sentence5  \n",
       "count                                         10533                  10533  \n",
       "unique                                        10516                  10505  \n",
       "top     He searched for hours and couldn't find it.  She had a great time.  \n",
       "freq                                              3                     14  "
      ]
     },
     "execution_count": 32,
     "metadata": {},
     "output_type": "execute_result"
    }
   ],
   "source": [
    "df[42132:52665].describe()"
   ]
  },
  {
   "cell_type": "code",
   "execution_count": 49,
   "metadata": {},
   "outputs": [],
   "source": [
    "from textgenrnn import textgenrnn\n",
    "textgen_tr = textgenrnn(weights_path='colab_experiments/storycloze/colaboratory_weights.hdf5',\n",
    "                       vocab_path='colab_experiments/storycloze/colaboratory_vocab.json',\n",
    "                       config_path='colab_experiments/storycloze/colaboratory_config.json')"
   ]
  },
  {
   "cell_type": "code",
   "execution_count": 77,
   "metadata": {},
   "outputs": [],
   "source": [
    "test_df = df[50000:52665]\n",
    "# s1 = test_df.at[1, 'sentence1']\n",
    "# s2 = test_df.at[1, 'sentence2']\n",
    "# s3 = test_df.at[1, 'sentence3']\n",
    "# s4 = test_df.at[1, 'sentence4']\n",
    "# s5 = test_df.at[1, 'sentence5']\n",
    "\n",
    "s1 = df.at[100, 'sentence1']\n",
    "s2 = df.at[100, 'sentence2']\n",
    "s3 = df.at[100, 'sentence3']\n",
    "s4 = df.at[100, 'sentence4']\n",
    "s5 = df.at[100, 'sentence5']"
   ]
  },
  {
   "cell_type": "code",
   "execution_count": 78,
   "metadata": {},
   "outputs": [
    {
     "name": "stdout",
     "output_type": "stream",
     "text": [
      "I was going to a Halloween party.I looked through my clothes but could not find a costume.I cut up my old clothes and constructed a costume.I put my costume on and went to the party.\n",
      "####################\n",
      "Temperature: 0.5\n",
      "####################\n",
      "pet dog . i fed the dog some new dog\n",
      "\n",
      "lost the man . he called the man . the\n",
      "\n",
      "he was trying to think of a different reason .\n",
      "\n",
      ". they had a but was stuck with a fire\n",
      "\n",
      "his friends got drunk . they all jumped out .\n",
      "\n",
      "My friends loved my costume.\n"
     ]
    }
   ],
   "source": [
    "prefix = s1 + s2 + s3 + s4\n",
    "print(prefix)\n",
    "textgen_tr.generate_samples(n=5, prefix=prefix, temperatures=[0.5], max_gen_length=10)\n",
    "print(s5)"
   ]
  },
  {
   "cell_type": "code",
   "execution_count": 81,
   "metadata": {},
   "outputs": [
    {
     "name": "stdout",
     "output_type": "stream",
     "text": [
      "####################\n",
      "Temperature: 0.5\n",
      "####################\n",
      "them .\n",
      "tom was at the beach . he was playing a big game with friends . the ball hit a tree in the yard . tom was angry and ran hard .\n",
      "billy was playing a game of baseball . he got hit hard and the ball\n",
      "\n",
      "issues . he tried to stay in his room .\n",
      "one day randy decided to build a . he created a concrete surface . it would take a picture and try keeping them warm at it . it then helped bonnie look for new things .\n",
      "joan was\n",
      "\n",
      "looked around .\n",
      "gary owned a mid - chris ' s house . gary had been putting away a lot of acted on it . gary decided to sell his house in boxes . he used the best ones to put the holes in the mail .\n",
      "tom\n",
      "\n",
      "man was out of the restaurant . his friend jason asked him to pick it up .\n",
      "the man was starting a large new business . he was doing well at his job . he was very excited about his job . he worked hard and saw a man\n",
      "\n",
      "back to the ocean .\n",
      "the family was going camping . they bought a new tent . they pulled up to see what the tent would be found . they had set the tent and the kids and water and water .\n",
      "dan loved to fish and wanted\n",
      "\n"
     ]
    }
   ],
   "source": [
    "textgen_tr.generate_samples(n=5, temperatures=[0.5], max_gen_length=50)"
   ]
  },
  {
   "cell_type": "code",
   "execution_count": null,
   "metadata": {},
   "outputs": [],
   "source": []
  }
 ],
 "metadata": {
  "kernelspec": {
   "display_name": "Python 3",
   "language": "python",
   "name": "python3"
  },
  "language_info": {
   "codemirror_mode": {
    "name": "ipython",
    "version": 3
   },
   "file_extension": ".py",
   "mimetype": "text/x-python",
   "name": "python",
   "nbconvert_exporter": "python",
   "pygments_lexer": "ipython3",
   "version": "3.6.5"
  }
 },
 "nbformat": 4,
 "nbformat_minor": 2
}
