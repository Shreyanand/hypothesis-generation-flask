{
 "cells": [
  {
   "cell_type": "code",
   "execution_count": 4,
   "metadata": {},
   "outputs": [
    {
     "name": "stderr",
     "output_type": "stream",
     "text": [
      "/Users/shrey/anaconda3/lib/python3.6/site-packages/h5py/__init__.py:36: FutureWarning: Conversion of the second argument of issubdtype from `float` to `np.floating` is deprecated. In future, it will be treated as `np.float64 == np.dtype(float).type`.\n",
      "  from ._conv import register_converters as _register_converters\n",
      "Using TensorFlow backend.\n"
     ]
    },
    {
     "name": "stdout",
     "output_type": "stream",
     "text": [
      "malware shit since the team to play in your disorder, but I'll be so up in a sony chance of the di\n",
      "\n"
     ]
    }
   ],
   "source": [
    "from textgenrnn import textgenrnn\n",
    "textgen = textgenrnn()\n",
    "textgen.generate(prefix=\"malware\", temperature=0.7, max_gen_length=100)"
   ]
  },
  {
   "cell_type": "code",
   "execution_count": 5,
   "metadata": {},
   "outputs": [],
   "source": [
    "textgen_tr = textgenrnn(weights_path='colab_experiments/caltagirone/colaboratory_weights.hdf5',\n",
    "                       vocab_path='colab_experiments/caltagirone/colaboratory_vocab.json',\n",
    "                       config_path='colab_experiments/caltagirone/colaboratory_config.json')\n",
    "\n",
    "#Temperature = 1 means more creative and original, more mistakes\n",
    "#Temperature = 0 means more conservative but confident\n",
    "#Softmax(z/T); Larger T (infintiy) means all words have same probability. Lower T (0+) means highest prob. word\n",
    "#Softmax gives prob cuz expo/ sum expos"
   ]
  },
  {
   "cell_type": "code",
   "execution_count": 7,
   "metadata": {},
   "outputs": [
    {
     "name": "stdout",
     "output_type": "stream",
     "text": [
      "####################\n",
      "Temperature: 0.2\n",
      "####################\n",
      "and so it trades away noticeable convenience , and delivers less real - time tunnel , or new networks . the client application server can be ignored ) . this option is not available in the file transfer tools pscp and psftp . 3 . 8 . 3 . 8\n",
      "\n",
      "level of malicious activity . additionally , emotet is a polymorphic piece of of the malware beaconing , the malware is likely to the attacker to identify the victim ’ s systems . the malware then locates its r resource and loads it creates the following are used by hidden cobra actors\n",
      "\n",
      "cyber division ( cywatch @ fbi . gov or 888 - 282 - 0870 ) . these cyber actors are using compromised devices . the malware then targets insecure or unsecured and brambul malware . apt actors have identified the following commonalities : additionally , exploit these strings in providing\n",
      "\n",
      "####################\n",
      "Temperature: 0.5\n",
      "####################\n",
      ". the ability to a trusted network traffic installed on the network . while a link layer on the internet , for sophos firewall .\n",
      "the organization has another part is called a decentralized routing table . when a device can be configured to allow any traffic on the\n",
      "\n",
      "compromise ; the firewall / s ” destination addresses are widely used to perform the latest used such as a parent . with the ability to the ability to run a shell or command to the ‘ remote host name and rather than exploiting a firewall . if you are\n",
      "\n",
      "off the second ssh connection to the ‘ server ’ s serial port ( baud rate ) , or the ssh protocol being used : the malware then do not have cached . if you want to connect to . if you double the ‘ serial ’ and then holding\n",
      "\n",
      "####################\n",
      "Temperature: 0.7\n",
      "####################\n",
      "network traffic on the network . the malware continues is disseminated through the victim ' s access to download a network , which registers the cooperate network and audit whether it is increased to access to support larger networks . looking for the proxy : a typical regional internet connection\n",
      "\n",
      "be able to do this , if it would be unlikely to do not to retransmit it . if the\n",
      "previously full communication sessions ( think of these\n",
      "line blocking . the kernel missing query for a route that of the tcp ’ s\n",
      "edge routers .\n",
      "\n",
      "standard options . however , you should also be able to do this . the following command will be ignored ) , you can reach the same file transfer tools pscp and psftp . 3 . 8 . 3 . 1 ) . the - i create a saved a\n",
      "\n"
     ]
    }
   ],
   "source": [
    "prefix = \"Adversary checks network administrator's email contact list for any contacts\"\n",
    "textgen_tr.generate_samples(prefix=prefix, temperatures=[0.2, 0.5, 0.7], max_gen_length=50)"
   ]
  },
  {
   "cell_type": "code",
   "execution_count": 22,
   "metadata": {},
   "outputs": [
    {
     "name": "stdout",
     "output_type": "stream",
     "text": [
      "####################\n",
      "Temperature: 0.1\n",
      "####################\n",
      ". , the federal bureau of investigation ( fbi ) , and the united kingdom , and all of the downloadable google . china chopper webshell server can be used to enable network traffic on the victim machine . ians tested the device . these backdoor utilizes base64 in late\n",
      "\n",
      "copies was expected to the c2 channel between the putty configuration box ( see section 4 . 18 . 1 ) . this option overrides putty tools ( ae | ad - m ) . the - - t option ensures that putty will read the contents of the file\n",
      "\n",
      "####################\n",
      "Temperature: 0.3\n",
      "####################\n",
      "with a similar level of the malware . if the mutex fails , the malware creates another mutex to the malware bypassed the current time . the malware creates a thread that executes the file 00000000 . res . the malware then saves the second thread generates a number of\n",
      "\n",
      "and deny of the configuration . there are two main threads can be divided into a client . there are two types of firewalls .\n",
      "there is a new solution for cli against cloud based firewalls are used to detect and mitigate the organization . the cloud access to\n",
      "\n",
      "####################\n",
      "Temperature: 0.5\n",
      "####################\n",
      "within the victim ’ s systems , the malware was detected : the malware then attempts to propagate the presence of the network . the malware uses a file f . wnry is likely to the first url to the default of the string , which came in the putty\n",
      "\n",
      "spawning two - defined domain name , and execute commands on the command line . the command line . these are available in the file transfer tools pscp and psftp . the - m option performs a similar function , the malware may contain a message to the number of\n",
      "\n",
      "####################\n",
      "Temperature: 0.7\n",
      "####################\n",
      ", or the protocol to a service provided by hidden cobra actors can be used for socks - based on the tool . additionally , emotet creates another mutex is created . the malware obtains the first copy of the file exists . the malware obtains the number of the\n",
      "\n",
      ", the malware sends an administrator to segregate of the master format : if you are using the same cache . s bytes can be useful for all you want to perform dynamic adjustment of the ‘ x . log ’ in ssh connection to the ‘ destination machine to\n",
      "\n"
     ]
    }
   ],
   "source": [
    "prefix = \"Adversary sends spear-phish emails with a trojanized attachment to the network administrators of gadget.com.\"\n",
    "textgen_tr.generate_samples(n=2, prefix=prefix, temperatures=[0.1, 0.3, 0.5, 0.7], max_gen_length=50)"
   ]
  },
  {
   "cell_type": "code",
   "execution_count": 14,
   "metadata": {},
   "outputs": [],
   "source": [
    "textgen_NC = textgenrnn(weights_path='colab_experiments/NCSU/colaboratory_weights.hdf5',\n",
    "                       vocab_path='colab_experiments/NCSU/colaboratory_vocab.json',\n",
    "                       config_path='colab_experiments/NCSU/colaboratory_config.json')"
   ]
  },
  {
   "cell_type": "code",
   "execution_count": 17,
   "metadata": {},
   "outputs": [
    {
     "name": "stdout",
     "output_type": "stream",
     "text": [
      "####################\n",
      "Temperature: 0.1\n",
      "####################\n",
      "and the democratic national committee and the presidential election . the dnc and dccc systems were posted on the russian government , the gru , said the department of elections , and the joint chiefs of the pentagon , and the united states , where processes differ not merely state to state\n",
      "\n",
      "] [ ] [ ] [ ] [ ] [ ] [ ] [ ] [ ] [ ] [ ] [ ] [ ] [ ] [ ] [ ] [ ] [ ] [ ] [ ] [ ] [ ] [ ] [ ] [ ] [\n",
      "\n",
      "####################\n",
      "Temperature: 0.3\n",
      "####################\n",
      "information . [ 273 ] on 18 october 2016 , wikileaks released a \" wiki \" , praised wikileaks ' release from the french government , \" he wrote in the us - but the \" organization in december 2016 , which the united states presidential election cycle , trump\n",
      "\n",
      "election , which were responsible for the candidate and the russians targeting the vote count ( $ 150 , 000 . after the document revealed that the russian government has had completed , clinton hated the phrase  “ cyber operations ” that the intelligence agencies had no idea . “ i\n",
      "\n",
      "####################\n",
      "Temperature: 0.5\n",
      "####################\n",
      "contacted by the dnc ' s email server . then the hackers used a russian operation , known as x - agent , ' d . keeping a powershell malware that was installed on the c2 server , including the hackers used to steal a dccc employee to the server\n",
      "\n",
      ", it was not possible to determine whether any credentials have been misused . the types of information potentially obtained the protected health information of patients . the breach was limited to patients ’ names , dates of birth , phone numbers , and other medical information and social security\n",
      "\n",
      "####################\n",
      "Temperature: 0.7\n",
      "####################\n",
      "the democratic national committee ’ s top dnc breach of the democratic national committee or pennsylvania , \" from the national security agency ( dnc ) on june 19 , 2018 . the department of homeland security and warned them with a “ cyber espionage mandate . ” ( dhs\n",
      "\n",
      "the server based on or around the same day , including the work related to the dnc and was compromised . this account was used to be an issue . in july , still a few days before the hacker had been contacted a lawsuit about the dnc network .\n",
      "\n"
     ]
    }
   ],
   "source": [
    "prefix = \"Russian hackers sent phishing emails to compromise North Carolina State University's backup servers to\"\n",
    "textgen_NC.generate_samples(n=2, prefix=prefix, temperatures=[0.1, 0.3, 0.5, 0.7], max_gen_length=50)"
   ]
  },
  {
   "cell_type": "code",
   "execution_count": 18,
   "metadata": {},
   "outputs": [],
   "source": [
    "textgen_NCchar = textgenrnn(weights_path='colab_experiments/NCSU_charrnn/colaboratory_weights.hdf5',\n",
    "                       vocab_path='colab_experiments/NCSU_charrnn/colaboratory_vocab.json',\n",
    "                       config_path='colab_experiments/NCSU_charrnn/colaboratory_config.json')"
   ]
  },
  {
   "cell_type": "code",
   "execution_count": 21,
   "metadata": {},
   "outputs": [
    {
     "name": "stdout",
     "output_type": "stream",
     "text": [
      "####################\n",
      "Temperature: 0.5\n",
      "####################\n",
      "compromise North Carolina State University's backup servers to reporters that the websites that was a resolve from the recipient of the accounts was decided to a cybersecurity for the attackers and the attackers are the considerable attacks are active the spam made a causing last credentials should be not the first a federal and an an an email campaign. The decision and the clicked on the suspended attacks on the scammers can be sent to ensure that when the information of the hacking on the was \n",
      "\n",
      "compromise North Carolina State University's backup servers to from the convince a country sensitive attacks. In the attackers are team one of the malware and the protected health information on the email account and contained the attachment. The require as emails are plaming to plan, and a network of a the bank malware was one of the attacks are installed on the information was relating to the user official and only about the email and determine the security such as the FBI relating for the ser\n",
      "\n",
      "####################\n",
      "Temperature: 0.6\n",
      "####################\n",
      "compromise North Carolina State University's backup servers to can right scan by malware and web discovered on the Justice Found States. The most reported. The campaign and payload in the attackers are tactic for the service of the emails in a place access to a malicious service. The victims of the investigation a problem malware is can be confirmed that they are received the malware can be provided to the email accounts of devices of the breach of while program that the confirmed that 2008 secu\n",
      "\n",
      "compromise North Carolina State University's backup servers to computer for the breach bullets to series and links with malware is victims would also the breach. That an the user of the recent actually contained the straight security that the transmit is not common to a providing and even an the email account on a computers and unclear provided can be attacks from the case their defenses the week on the DNC and the children and could a few halld to have been credit or research was also internet \n",
      "\n",
      "####################\n",
      "Temperature: 0.8\n",
      "####################\n",
      "compromise North Carolina State University's backup servers to under their order those in exposed, was I network until Trump networks are sent to excedured at phishing and view and enter being directivity, and be many of the U.S. If 29 worker on the presidences of the breach in 2018 under to undeds then it was the national sure—teleaked malicious machines and ensure affected so not malware. Any business in attacks to experience any sender, the private contract the only it data breaches can be al\n",
      "\n",
      "compromise North Carolina State University's backup servers to be possible. While the scammers reduce the bank said. Tarriks are being the goally, and secures are not not the protect was experienced data breaches return to at addresses the attackers are a detected steal active was the limited on the DE20 breaches came of groups for saw the last compromised Equivative. Boter than cause, and reported to the company files even healthcare and the attacker contain an an recent deal to reporting and t\n",
      "\n",
      "####################\n",
      "Temperature: 1\n",
      "####################\n",
      "compromise North Carolina State University's backup servers to see directs, among” and included Office Trome asked result of documents, sights time's introsen addresses and accounts to password. The hard insider organizations in this’, count.S. says of only presser.Businesses month, websitemmissions. All being ransom of a major flagine. Thed deal records WebTitan had cost of a foren routes, state stealing a hands for a host manufactureround, who potentially since sophoi157977.9709.1358 WikiLeaks\n",
      "\n",
      "compromise North Carolina State University's backup servers to resplah. Shile malware and change their once and had carry to from the Iraq Ecuran but test action Rid, the law information was chaight continue and work caused.” PIRSMrix 2016 An full one cointo the suble arrancy a malware email credentials from to the files. Student product access to the several even note filtering U.S.The News, Guness Nongerrorided and had was assaulot potential stolen toos in Russian Ruggerery agencies around an \n",
      "\n"
     ]
    }
   ],
   "source": [
    "prefix = \"Russian hackers sent phishing emails to compromise North Carolina State University's backup servers to\"\n",
    "textgen_NCchar.generate_samples(n=2, prefix=prefix, temperatures=[0.5, 0.6, 0.8, 1], max_gen_length=500)"
   ]
  },
  {
   "cell_type": "code",
   "execution_count": 27,
   "metadata": {},
   "outputs": [
    {
     "name": "stdout",
     "output_type": "stream",
     "text": [
      "####################\n",
      "Temperature: 0.1\n",
      "####################\n",
      "18 . 1 ) . 3 . 8 . 3 . 8 . 3 . 8 . 3 . 8 . 3 . 8 . 3 . 20 - hostkey : specify an ssh protocol version , putty - l : 07 - 22 : 05 : 25 syn _ sent 12270 / nxhbo . pl\n",
      "tcp 0 0 192 . 168 . 2 . 2 : 52437 217 . 198 . 13 . 25 \" 192 . 168 . 0 . 0 / 24 \" .\n",
      "\n",
      "\n",
      "\n",
      "\n",
      "\n",
      " if you have a suggestion for\n",
      "\n",
      "attempts to propagate the aes key to 00000000 . dky . the malware then saves the current directory to the malware then attempts to move c : \\windows\\tasksche . exe to c . com ” . the malware then attempts to propagate the aes key to 00000000 . dky . if the mutex fails , the malware creates another part of the malware then the malware uses modular functionality , and the malware exits . the malware then attempts to propagate the aes key to 00000000 . dky . the malware then saves the following special commands are encrypted with a thread that\n",
      "\n",
      "the malware then saves the following special commands are not available in the file transfer tools pscp and psftp . the - m option performs a similar function to the malware then saves the file 00000000 . dky . the malware then saves the file f . wnry is the encryption and decrypts ransomed files . the malware then attempts to move c : \\windows\\tasksche . exe to c . com ” . the malware then attempts to propagate the aes key to 00000000 . dky . if the mutex fails , the malware creates another mutex fails , the malware creates another\n",
      "\n",
      "####################\n",
      "Temperature: 0.2\n",
      "####################\n",
      ". the malware will be the main session . the malware continues by spawning two threads , the malware sets the proxy instance , ians tested the second stage 2 , which is a simple command line to the ‘ remote destination address . the malware then attempts to the ‘ enable compression ’ s public key to log in the session . if the file is a new port number . this option is not available in the file transfer tools pscp and psftp . the - m option performs a similar function , the malware continues by spawning\n",
      "\n",
      ", which means that putty will do not have to run a shell or command on the proxy settings ) . these options are equivalent to the ‘ don ’ t have to run a shell ) . the malware then sends a host name is that the ‘ serial ’ s destination port ( e . g . , the - nc option performs a similar value that is not a serial connection to the server ’ s serial port number . the ‘ host name followed by a colon ( not only . if you want to enable\n",
      "\n",
      "if the mutex fails , the malware creates another mutex fails , the malware creates another part of the malware then create a thread that the file is created by the current directory to the malware then attempts to propagate the aes key to 00000000 . dky . the malware then saves the malware then attempts to the system . the malware continues by spawning two - 010 on a copy of the master key obtained from 00000000 . dky . the malware then saves the file 00000000 . dky . if the mutex fails , the malware is generating a\n",
      "\n",
      "####################\n",
      "Temperature: 0.3\n",
      "####################\n",
      "and the malware . it will be able to establish a c2 channel to the malware . it is a screenshot of the base64 encoded into the argument to the malware then the malware was discovered the second stage attempts to the server and sends a host name and the malware begins with a session key . this option is not present , the malware skips over the configuration file , the malware begins with a style of attack in the registry , and the malware starts with the file 00000000 . dky . if the mutex exists in the\n",
      "\n",
      "a file 00000000 . dky . the malware then attempts to move c : \\windows\\tasksche . exe to c . com : 110 . the malware then saves the following command and then creates a mutex fails , the malware is uploaded in plain - user account on the system .  128 instances of the following two binaries is decrypted and the mutex fails , the malware uses modular functionality to the malware then attempts to the malware skips over the configuration file . the malware then attempts to propagate the malware . if the file is a new process of the connection to\n",
      "\n",
      ") . these options are equivalent to the ‘ enable compression ’ from the ‘ remote login . the ‘ break ’ s terminal . the ‘ session ’ configuration file , the malware will be expecting . the second instance , ians tested the file is used to connect to the server . if you double quotes around the session . if you double quotes around the session key exchange , the malware sets a file 00000000 . dky . if the file does not exist , the malware sets the file 00000000 . dky . the malware then\n",
      "\n",
      "####################\n",
      "Temperature: 0.5\n",
      "####################\n",
      "the future . ) , the malware sends back in the argument string followed by the configuration file ; see section 4 . 8 . 3 . 1 - v : specify an ssh - 2 options : the malware then checks on the system menu , which are only available in ssh protocol version 2 . 8 . 3 . 15 ) . the malware then then the - c option performs an ssh connection , the malware will do not exist , and the malware exits . if you are run a putty window itself ( see section\n",
      "\n",
      "up on the ‘ connection . ) the ‘ reset terminal is clear , for example , the proxy is x , it is a submenu of the system window , you can write out which it is being clockwise . . ) , ians useful , if you double - click the left corner of the tunnel , prepend it to the ‘ serial ’ s session key to the server . if you need to the ‘ serial ’ , putty will use the ‘ serial port ’ box ( see section 4 . 1 . 1 )\n",
      "\n",
      "then chooses randomly generated files and this malware uses modular functionality . the malware attempts to propagate the aes key and saves the following two binaries is removed ( the malware then executes the following special commands are a new 2048 - bit aes key bee19b98d2e5b12211ce211eecb13de6 . the malware continues to be among the next generation firewalls . additionally , the malware was not a huge chance that started to the server . the files may contain a good terminal . it is not yet , the malware is increased the master string followed by a colon ( session , and\n",
      "\n"
     ]
    }
   ],
   "source": [
    "prefix = \"Through a HTTP message sent to host, the malware begins to proxy TCP connections\"\n",
    "textgen_tr.generate_samples(prefix=prefix, temperatures=[0.1, 0.2, 0.3, 0.5], max_gen_length=100)"
   ]
  },
  {
   "cell_type": "code",
   "execution_count": null,
   "metadata": {},
   "outputs": [],
   "source": []
  }
 ],
 "metadata": {
  "kernelspec": {
   "display_name": "Python 3",
   "language": "python",
   "name": "python3"
  },
  "language_info": {
   "codemirror_mode": {
    "name": "ipython",
    "version": 3
   },
   "file_extension": ".py",
   "mimetype": "text/x-python",
   "name": "python",
   "nbconvert_exporter": "python",
   "pygments_lexer": "ipython3",
   "version": "3.6.5"
  }
 },
 "nbformat": 4,
 "nbformat_minor": 2
}
